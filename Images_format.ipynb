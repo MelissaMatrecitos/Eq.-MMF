{
  "nbformat": 4,
  "nbformat_minor": 0,
  "metadata": {
    "colab": {
      "provenance": []
    },
    "kernelspec": {
      "name": "python3",
      "display_name": "Python 3"
    },
    "language_info": {
      "name": "python"
    }
  },
  "cells": [
    {
      "cell_type": "code",
      "execution_count": null,
      "metadata": {
        "id": "oKuHQ9cVYq9j"
      },
      "outputs": [],
      "source": [
        "import matplotlib.pyplot as plt\n",
        "import matplotlib.patches as mpatches\n",
        "import matplotlib.lines as mlines\n",
        "from matplotlib.legend_handler import HandlerLine2D, HandlerTuple\n",
        "import matplotlib as mpl"
      ]
    },
    {
      "cell_type": "code",
      "source": [
        "#Nombre del archivo\n",
        "outfile='archivo.png'"
      ],
      "metadata": {
        "id": "eOHuYV-eZaTZ"
      },
      "execution_count": null,
      "outputs": []
    },
    {
      "cell_type": "code",
      "source": [
        "#Parámetros de tamaño\n",
        "mpl.rcParams['figure.figsize'] = [8.0, 6.0]\n",
        "mpl.rcParams['font.size'] = 20\n",
        "mpl.rcParams['legend.fontsize'] = 'small'\n",
        "mpl.rcParams['figure.titlesize'] = 'large'"
      ],
      "metadata": {
        "id": "vX6AuoV1ZXNT"
      },
      "execution_count": null,
      "outputs": []
    },
    {
      "cell_type": "code",
      "source": [
        "#Leyendas especiales (OPCIONAL)\n",
        "#Se grafican datos con esos nombres\n",
        "    p1,=plt.plot(Int_a+m*120, Pos_a, \"o\", label='Data', color='silver')\n",
        "\t\tp2_1,=plt.plot(f_aj+m*120,dat_aj,linewidth=3.0,label='Gaussian fit', color=color_doff)\n",
        "\t\tp2_2,=plt.plot(f_aj+m*120,dat_aj,linewidth=3.0,label='Gaussian fit', color=color_doff2)\n",
        "\t\tp2_3,=plt.plot(f_aj+m*120,dat_aj,linewidth=3.0,label='Gaussian fit', color=color_don)\n",
        "\t\tp3_1,=plt.plot(gaus(popt[1],*popt)+Int_min+m*120, popt[1], \"o\", label='$Z_{\\mu}$ On', color=color_aoff)\n",
        "\t\tp3_2,=plt.plot(gaus(popt[1],*popt)+Int_min+m*120, popt[1], \"o\", label='$Z_{\\mu}$ Off', color=color_aoff2)\n",
        "\t\tp3_3,=plt.plot(gaus(popt[1],*popt)+Int_min+m*120, popt[1], \"o\", label='$Z_{\\mu}$ Off', color=color_aon)\n",
        "#Así se escribe la leyenda\n",
        "plt.legend([p1,(p2_1,p2_2,p2_3),(p3_1, p3_2,p3_3)], ['Data','Gaussian fit','$Z_{\\mu}$'], numpoints=1,\n",
        "              handler_map={tuple: HandlerTuple(ndivide=None)},loc='upper right')"
      ],
      "metadata": {
        "id": "_1Sp_63dZvlN"
      },
      "execution_count": null,
      "outputs": []
    },
    {
      "cell_type": "code",
      "source": [
        "#Datos generales que pueden cambiar por imágen\n",
        "plt.xlabel(\"Intensity (AU)\")\n",
        "plt.ylabel(\"Position ($\\mu$m)\")\n",
        "plt.xlim(4332,4336)\n",
        "plt.ylim(4332,4336)\n",
        "plt.grid(True)\n",
        "plt.tight_layout()                          #Para que no se corten las leyendas\n",
        "plt.savefig(outfile, format='png', dpi=300) #Guargar imagen automáticamenete\n",
        "plt.show()"
      ],
      "metadata": {
        "id": "q35ca7dwaPIW"
      },
      "execution_count": null,
      "outputs": []
    }
  ]
}